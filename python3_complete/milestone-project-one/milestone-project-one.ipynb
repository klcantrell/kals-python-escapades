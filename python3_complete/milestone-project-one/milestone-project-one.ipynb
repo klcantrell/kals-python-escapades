{
 "cells": [
  {
   "cell_type": "markdown",
   "metadata": {},
   "source": [
    "# Milestone Project 1: Walkthrough Steps Workbook\n",
    "\n",
    "Below is a set of steps for you to follow to try to create the Tic Tac Toe Milestone Project game!"
   ]
  },
  {
   "cell_type": "markdown",
   "metadata": {},
   "source": [
    "#### Some suggested tools before you get started:\n",
    "To take input from a user:\n",
    "\n",
    "    player1 = input(\"Please pick a marker 'X' or 'O'\")\n",
    "    \n",
    "Note that input() takes in a string. If you need an integer value, use\n",
    "\n",
    "    position = int(input('Please enter a number'))\n",
    "    \n",
    "<br>To clear the screen between moves:\n",
    "\n",
    "    from IPython.display import clear_output\n",
    "    clear_output()\n",
    "    \n",
    "Note that clear_output() will only work in jupyter. To clear the screen in other IDEs, consider:\n",
    "\n",
    "    print('\\n'*100)\n",
    "    \n",
    "This scrolls the previous board up out of view. Now on to the program!"
   ]
  },
  {
   "cell_type": "markdown",
   "metadata": {},
   "source": [
    "**Step 1: Write a function that can print out a board. Set up your board as a list, where each index 1-9 corresponds with a number on a number pad, so you get a 3 by 3 board representation.**"
   ]
  },
  {
   "cell_type": "code",
   "execution_count": 1,
   "metadata": {},
   "outputs": [],
   "source": [
    "from IPython.display import clear_output, display\n",
    "\n",
    "def display_board(board):\n",
    "    clear_output()\n",
    "    \n",
    "    print(f' {board[7]} | {board[8]} | {board[9]} ')\n",
    "    print('-----------')\n",
    "    print(f' {board[4]} | {board[5]} | {board[6]} ')\n",
    "    print('-----------')\n",
    "    print(f' {board[1]} | {board[2]} | {board[3]} ')"
   ]
  },
  {
   "cell_type": "markdown",
   "metadata": {},
   "source": [
    "**TEST Step 1:** run your function on a test version of the board list, and make adjustments as necessary"
   ]
  },
  {
   "cell_type": "code",
   "execution_count": 2,
   "metadata": {},
   "outputs": [
    {
     "name": "stdout",
     "output_type": "stream",
     "text": [
      " X | O | X \n",
      "-----------\n",
      " O | X | O \n",
      "-----------\n",
      " X | O | X \n"
     ]
    }
   ],
   "source": [
    "test_board = ['#','X','O','X','O','X','O','X','O','X']\n",
    "display_board(test_board)"
   ]
  },
  {
   "cell_type": "markdown",
   "metadata": {},
   "source": [
    "**Step 2: Write a function that can take in a player input and assign their marker as 'X' or 'O'. Think about using *while* loops to continually ask until you get a correct answer.**"
   ]
  },
  {
   "cell_type": "code",
   "execution_count": 3,
   "metadata": {},
   "outputs": [],
   "source": [
    "def player_input():\n",
    "    player_one_marker = ''\n",
    "    while player_one_marker != 'X' and player_one_marker != 'O':\n",
    "        print('Do you want to be \"X\" or \"O\"?')\n",
    "        player_one_marker = input().upper()\n",
    "    if player_one_marker == 'X':\n",
    "        player_two_marker = 'O'\n",
    "        print('Player One will go first')\n",
    "    else:\n",
    "        player_two_marker = 'X'\n",
    "        print('Player Two will go first')\n",
    "    return (player_one_marker, player_two_marker)"
   ]
  },
  {
   "cell_type": "markdown",
   "metadata": {},
   "source": [
    "**TEST Step 2:** run the function to make sure it returns the desired output"
   ]
  },
  {
   "cell_type": "code",
   "execution_count": 4,
   "metadata": {},
   "outputs": [
    {
     "name": "stdout",
     "output_type": "stream",
     "text": [
      "Do you want to be \"X\" or \"O\"?\n",
      "x\n",
      "Player One will go first\n"
     ]
    },
    {
     "data": {
      "text/plain": [
       "('X', 'O')"
      ]
     },
     "execution_count": 4,
     "metadata": {},
     "output_type": "execute_result"
    }
   ],
   "source": [
    "player_input()"
   ]
  },
  {
   "cell_type": "markdown",
   "metadata": {},
   "source": [
    "**Step 3: Write a function that takes in the board list object, a marker ('X' or 'O'), and a desired position (number 1-9) and assigns it to the board.**"
   ]
  },
  {
   "cell_type": "code",
   "execution_count": 5,
   "metadata": {},
   "outputs": [],
   "source": [
    "def place_marker(board, marker, position):\n",
    "    board[position] = marker"
   ]
  },
  {
   "cell_type": "markdown",
   "metadata": {},
   "source": [
    "**TEST Step 3:** run the place marker function using test parameters and display the modified board"
   ]
  },
  {
   "cell_type": "code",
   "execution_count": 6,
   "metadata": {},
   "outputs": [
    {
     "name": "stdout",
     "output_type": "stream",
     "text": [
      " X |   | X \n",
      "-----------\n",
      " O | X | O \n",
      "-----------\n",
      " X | O | X \n"
     ]
    }
   ],
   "source": [
    "place_marker(test_board,' ',8)\n",
    "display_board(test_board)"
   ]
  },
  {
   "cell_type": "markdown",
   "metadata": {},
   "source": [
    "**Step 4: Write a function that takes in a board and a mark (X or O) and then checks to see if that mark has won. **"
   ]
  },
  {
   "cell_type": "code",
   "execution_count": 7,
   "metadata": {},
   "outputs": [],
   "source": [
    "def win_check(board, mark):\n",
    "    rows = [[1, 2, 3], [4, 5, 6], [7, 8, 9]]\n",
    "    columns = [[1, 4, 7], [2, 5, 8], [3, 6, 9]]\n",
    "    diagonals = [[1, 5, 9], [3, 5, 7]]\n",
    "    winning_combination = [mark] * 3\n",
    "    for row in rows:\n",
    "        row_values = [board[x] for x in row]\n",
    "        if row_values == winning_combination:\n",
    "            return True\n",
    "    for column in columns:\n",
    "        column_values = [board[x] for x in column]\n",
    "        if column_values == winning_combination:\n",
    "            return True\n",
    "    for diagonal in diagonals:\n",
    "        diagonal_values = [board[x] for x in diagonal]\n",
    "        if diagonal_values == winning_combination:\n",
    "            return True\n",
    "    return False"
   ]
  },
  {
   "cell_type": "markdown",
   "metadata": {},
   "source": [
    "**TEST Step 4:** run the win_check function against our test_board - it should return True"
   ]
  },
  {
   "cell_type": "code",
   "execution_count": 8,
   "metadata": {},
   "outputs": [
    {
     "data": {
      "text/plain": [
       "True"
      ]
     },
     "execution_count": 8,
     "metadata": {},
     "output_type": "execute_result"
    }
   ],
   "source": [
    "win_check(test_board,'X')"
   ]
  },
  {
   "cell_type": "markdown",
   "metadata": {},
   "source": [
    "**Step 5: Write a function that uses the random module to randomly decide which player goes first. You may want to lookup random.randint() Return a string of which player went first.**"
   ]
  },
  {
   "cell_type": "code",
   "execution_count": 9,
   "metadata": {},
   "outputs": [],
   "source": [
    "import random\n",
    "\n",
    "def choose_first():\n",
    "    index = random.randint(1, 2)\n",
    "    if index == 1:\n",
    "        print('Player One goes first')\n",
    "    else:\n",
    "        print('Player Two goes first')\n",
    "    return index"
   ]
  },
  {
   "cell_type": "code",
   "execution_count": 10,
   "metadata": {},
   "outputs": [
    {
     "name": "stdout",
     "output_type": "stream",
     "text": [
      "Player One goes first\n"
     ]
    },
    {
     "data": {
      "text/plain": [
       "1"
      ]
     },
     "execution_count": 10,
     "metadata": {},
     "output_type": "execute_result"
    }
   ],
   "source": [
    "choose_first()"
   ]
  },
  {
   "cell_type": "markdown",
   "metadata": {},
   "source": [
    "**Step 6: Write a function that returns a boolean indicating whether a space on the board is freely available.**"
   ]
  },
  {
   "cell_type": "code",
   "execution_count": 11,
   "metadata": {},
   "outputs": [],
   "source": [
    "def space_check(board, position):\n",
    "    board_range = range(1, 10)\n",
    "    if position not in board_range:\n",
    "        return False\n",
    "    return board[position] == ' '"
   ]
  },
  {
   "cell_type": "markdown",
   "metadata": {},
   "source": [
    "**Step 7: Write a function that checks if the board is full and returns a boolean value. True if full, False otherwise.**"
   ]
  },
  {
   "cell_type": "code",
   "execution_count": 12,
   "metadata": {},
   "outputs": [],
   "source": [
    "def full_board_check(board):\n",
    "    return ' ' not in board"
   ]
  },
  {
   "cell_type": "markdown",
   "metadata": {},
   "source": [
    "**Step 8: Write a function that asks for a player's next position (as a number 1-9) and then uses the function from step 6 to check if it's a free position. If it is, then return the position for later use.**"
   ]
  },
  {
   "cell_type": "code",
   "execution_count": 13,
   "metadata": {},
   "outputs": [],
   "source": [
    "def player_choice(board):\n",
    "    valid_choices = [str(x) for x in range(1, 10)]\n",
    "    print('Please select your next position. (1-9)')\n",
    "    while True:\n",
    "        position = input()\n",
    "        if position in valid_choices and space_check(board, int(position)):\n",
    "            return int(position)\n",
    "        else:\n",
    "            print('Sorry, that position is not available! Please try again.')"
   ]
  },
  {
   "cell_type": "code",
   "execution_count": 14,
   "metadata": {},
   "outputs": [
    {
     "name": "stdout",
     "output_type": "stream",
     "text": [
      "Please select your next position. (1-9)\n",
      "8\n"
     ]
    },
    {
     "data": {
      "text/plain": [
       "8"
      ]
     },
     "execution_count": 14,
     "metadata": {},
     "output_type": "execute_result"
    }
   ],
   "source": [
    "player_choice(test_board)"
   ]
  },
  {
   "cell_type": "markdown",
   "metadata": {},
   "source": [
    "**Step 9: Write a function that asks the player if they want to play again and returns a boolean True if they do want to play again.**"
   ]
  },
  {
   "cell_type": "code",
   "execution_count": 15,
   "metadata": {},
   "outputs": [],
   "source": [
    "def replay():\n",
    "    print('Do you want to play again? (Yes or No)')\n",
    "    while True:\n",
    "        response = input().upper()\n",
    "        if response == 'YES' or response == 'NO':\n",
    "            return response == 'YES'\n",
    "        else:\n",
    "            print('Please enter \"Yes\" or \"No\"')"
   ]
  },
  {
   "cell_type": "code",
   "execution_count": 16,
   "metadata": {},
   "outputs": [
    {
     "name": "stdout",
     "output_type": "stream",
     "text": [
      "Do you want to play again? (Yes or No)\n",
      "yes\n"
     ]
    },
    {
     "data": {
      "text/plain": [
       "True"
      ]
     },
     "execution_count": 16,
     "metadata": {},
     "output_type": "execute_result"
    }
   ],
   "source": [
    "replay()"
   ]
  },
  {
   "cell_type": "markdown",
   "metadata": {
    "collapsed": true
   },
   "source": [
    "**Step 10: Here comes the hard part! Use while loops and the functions you've made to run the game!**"
   ]
  },
  {
   "cell_type": "code",
   "execution_count": 17,
   "metadata": {},
   "outputs": [],
   "source": [
    "def tictactoe():\n",
    "    print('Welcome to Tic Tac Toe!')\n",
    "\n",
    "    while True:\n",
    "    #Set the game up here\n",
    "        tictactoe_board = ['&'] + ( [' '] * 9 )\n",
    "        player_one_marker, player_two_marker = player_input()\n",
    "        current_player = 'one' if player_one_marker == 'X' else 'two'\n",
    "        player_symbols = {\n",
    "            'one': player_one_marker,\n",
    "            'two': player_two_marker,\n",
    "        }\n",
    "        print('Are you ready to play?')\n",
    "        game_on = input().upper() == 'YES'\n",
    "        \n",
    "\n",
    "        while game_on:\n",
    "            if current_player == 'one':\n",
    "                #first player turn\n",
    "                display_board(tictactoe_board)\n",
    "                print('Player 1')\n",
    "                first_player_choice = player_choice(tictactoe_board)\n",
    "                place_marker(tictactoe_board, player_symbols[current_player], first_player_choice)\n",
    "                display_board(tictactoe_board)\n",
    "                if (win_check(tictactoe_board, player_symbols[current_player])):\n",
    "                    print('Player 1 Wins!')\n",
    "                    game_on = False\n",
    "                if (full_board_check(tictactoe_board)):\n",
    "                    print('Draw!')\n",
    "                    game_on = False\n",
    "                current_player = 'two'\n",
    "            else:\n",
    "                #second player turn\n",
    "                display_board(tictactoe_board)\n",
    "                print('Player 2')\n",
    "                second_player_choice = player_choice(tictactoe_board)\n",
    "                place_marker(tictactoe_board, player_symbols[current_player], second_player_choice)\n",
    "                display_board(tictactoe_board)\n",
    "                if (win_check(tictactoe_board, player_symbols[current_player])):\n",
    "                    print('Player 2 Wins!')\n",
    "                    game_on = False\n",
    "                if (full_board_check(tictactoe_board)):\n",
    "                    print('Draw!')\n",
    "                    game_on = False\n",
    "                current_player = 'one'\n",
    "\n",
    "        if not replay():\n",
    "            print('Thanks for playing!')\n",
    "            break"
   ]
  },
  {
   "cell_type": "code",
   "execution_count": 18,
   "metadata": {},
   "outputs": [
    {
     "name": "stdout",
     "output_type": "stream",
     "text": [
      "Welcome to Tic Tac Toe!\n",
      "Do you want to be \"X\" or \"O\"?\n",
      "x\n",
      "Player One will go first\n",
      "Are you ready to play?\n",
      "no\n",
      "Do you want to play again? (Yes or No)\n",
      "no\n",
      "Thanks for playing!\n"
     ]
    }
   ],
   "source": [
    "tictactoe()"
   ]
  },
  {
   "cell_type": "markdown",
   "metadata": {
    "collapsed": true
   },
   "source": [
    "## Good Job!"
   ]
  }
 ],
 "metadata": {
  "kernelspec": {
   "display_name": "Python 3",
   "language": "python",
   "name": "python3"
  },
  "language_info": {
   "codemirror_mode": {
    "name": "ipython",
    "version": 3
   },
   "file_extension": ".py",
   "mimetype": "text/x-python",
   "name": "python",
   "nbconvert_exporter": "python",
   "pygments_lexer": "ipython3",
   "version": "3.7.1"
  }
 },
 "nbformat": 4,
 "nbformat_minor": 1
}
